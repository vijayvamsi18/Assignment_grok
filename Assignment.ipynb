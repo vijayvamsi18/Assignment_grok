{
  "nbformat": 4,
  "nbformat_minor": 0,
  "metadata": {
    "colab": {
      "provenance": []
    },
    "kernelspec": {
      "name": "python3",
      "display_name": "Python 3"
    },
    "language_info": {
      "name": "python"
    }
  },
  "cells": [
    {
      "cell_type": "code",
      "execution_count": 1,
      "metadata": {
        "colab": {
          "base_uri": "https://localhost:8080/"
        },
        "id": "y-0_iBJcylKU",
        "outputId": "179a5565-7fe5-487e-edfd-93dc30a17a04"
      },
      "outputs": [
        {
          "output_type": "stream",
          "name": "stdout",
          "text": [
            "Collecting groq\n",
            "  Downloading groq-0.31.1-py3-none-any.whl.metadata (16 kB)\n",
            "Requirement already satisfied: requests in /usr/local/lib/python3.12/dist-packages (2.32.4)\n",
            "Requirement already satisfied: anyio<5,>=3.5.0 in /usr/local/lib/python3.12/dist-packages (from groq) (4.10.0)\n",
            "Requirement already satisfied: distro<2,>=1.7.0 in /usr/local/lib/python3.12/dist-packages (from groq) (1.9.0)\n",
            "Requirement already satisfied: httpx<1,>=0.23.0 in /usr/local/lib/python3.12/dist-packages (from groq) (0.28.1)\n",
            "Requirement already satisfied: pydantic<3,>=1.9.0 in /usr/local/lib/python3.12/dist-packages (from groq) (2.11.7)\n",
            "Requirement already satisfied: sniffio in /usr/local/lib/python3.12/dist-packages (from groq) (1.3.1)\n",
            "Requirement already satisfied: typing-extensions<5,>=4.10 in /usr/local/lib/python3.12/dist-packages (from groq) (4.15.0)\n",
            "Requirement already satisfied: charset_normalizer<4,>=2 in /usr/local/lib/python3.12/dist-packages (from requests) (3.4.3)\n",
            "Requirement already satisfied: idna<4,>=2.5 in /usr/local/lib/python3.12/dist-packages (from requests) (3.10)\n",
            "Requirement already satisfied: urllib3<3,>=1.21.1 in /usr/local/lib/python3.12/dist-packages (from requests) (2.5.0)\n",
            "Requirement already satisfied: certifi>=2017.4.17 in /usr/local/lib/python3.12/dist-packages (from requests) (2025.8.3)\n",
            "Requirement already satisfied: httpcore==1.* in /usr/local/lib/python3.12/dist-packages (from httpx<1,>=0.23.0->groq) (1.0.9)\n",
            "Requirement already satisfied: h11>=0.16 in /usr/local/lib/python3.12/dist-packages (from httpcore==1.*->httpx<1,>=0.23.0->groq) (0.16.0)\n",
            "Requirement already satisfied: annotated-types>=0.6.0 in /usr/local/lib/python3.12/dist-packages (from pydantic<3,>=1.9.0->groq) (0.7.0)\n",
            "Requirement already satisfied: pydantic-core==2.33.2 in /usr/local/lib/python3.12/dist-packages (from pydantic<3,>=1.9.0->groq) (2.33.2)\n",
            "Requirement already satisfied: typing-inspection>=0.4.0 in /usr/local/lib/python3.12/dist-packages (from pydantic<3,>=1.9.0->groq) (0.4.1)\n",
            "Downloading groq-0.31.1-py3-none-any.whl (134 kB)\n",
            "\u001b[2K   \u001b[90m━━━━━━━━━━━━━━━━━━━━━━━━━━━━━━━━━━━━━━━━\u001b[0m \u001b[32m134.9/134.9 kB\u001b[0m \u001b[31m2.8 MB/s\u001b[0m eta \u001b[36m0:00:00\u001b[0m\n",
            "\u001b[?25hInstalling collected packages: groq\n",
            "Successfully installed groq-0.31.1\n"
          ]
        }
      ],
      "source": [
        "!pip install groq requests\n",
        "\n",
        "from groq import Groq\n",
        "import json\n",
        "import re\n",
        "API_KEY = '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'\n",
        "\n",
        "client = Groq(\n",
        "    api_key=API_KEY,\n",
        "    default_headers={\"Groq-Model-Version\": \"latest\"}\n",
        ")\n"
      ]
    },
    {
      "cell_type": "code",
      "source": [
        "conversation_history = []\n",
        "\n",
        "def add_to_history(role, message):\n",
        "    conversation_history.append({\"role\": role, \"message\": message})\n",
        "\n",
        "def get_recent_history(n_turns=None, max_chars=None):\n",
        "    history = conversation_history[-n_turns:] if n_turns else conversation_history[:]\n",
        "    history_text = '\\n'.join([f\"{entry['role']}: {entry['message']}\" for entry in history])\n",
        "    return history_text[-max_chars:] if max_chars and len(history_text) > max_chars else history_text\n"
      ],
      "metadata": {
        "id": "RHiJuXSQy2GN"
      },
      "execution_count": 2,
      "outputs": []
    },
    {
      "cell_type": "code",
      "source": [
        "SUMMARY_INTERVAL = 3\n",
        "\n",
        "def summarize_history(history_text):\n",
        "    response = client.chat.completions.create(\n",
        "        model=\"groq/compound\",\n",
        "        messages=[\n",
        "            {\"role\": \"user\", \"content\": f\"Summarize the following conversation concisely:\\n{history_text}\"}\n",
        "        ],\n",
        "        temperature=0.5,\n",
        "        max_completion_tokens=150\n",
        "    )\n",
        "    return response.choices[0].message.content.strip()\n"
      ],
      "metadata": {
        "id": "HVH9oO4xy60H"
      },
      "execution_count": 3,
      "outputs": []
    },
    {
      "cell_type": "code",
      "source": [
        "def handle_conversation(role, message):\n",
        "    global conversation_history\n",
        "    add_to_history(role, message)\n",
        "    print(f\"{role}: {message}\")\n",
        "\n",
        "    if len(conversation_history) % SUMMARY_INTERVAL == 0:\n",
        "        recent_history = get_recent_history()\n",
        "        summary = summarize_history(recent_history)\n",
        "        conversation_history = [{\"role\": \"system\", \"message\": f\"Summary so far: {summary}\"}]\n",
        "        print(\"\\n--- Summarization Performed ---\")\n",
        "        print(f\"Summary: {summary}\\n\")\n"
      ],
      "metadata": {
        "id": "XFlEfhEpy7gH"
      },
      "execution_count": 4,
      "outputs": []
    },
    {
      "cell_type": "code",
      "source": [
        "handle_conversation(\"User\", \"Hi, I want to learn Data Science.\")\n",
        "handle_conversation(\"Assistant\", \"Sure! Do you have programming experience?\")\n",
        "handle_conversation(\"User\", \"Yes, some Python basics.\")\n",
        "handle_conversation(\"Assistant\", \"Great, start with pandas and numpy.\")\n",
        "handle_conversation(\"User\", \"Recommend online courses please.\")\n",
        "handle_conversation(\"Assistant\", \"Coursera and Udemy have good options.\")\n",
        "print(\"\\nFinal Conversation History:\")\n",
        "for entry in conversation_history:\n",
        "    print(f\"{entry['role']}: {entry['message']}\")\n"
      ],
      "metadata": {
        "colab": {
          "base_uri": "https://localhost:8080/"
        },
        "id": "-KIKX_mKzBBq",
        "outputId": "bcfd7754-4a2d-472d-faab-53e1681bd687"
      },
      "execution_count": 6,
      "outputs": [
        {
          "output_type": "stream",
          "name": "stdout",
          "text": [
            "User: Hi, I want to learn Data Science.\n",
            "\n",
            "--- Summarization Performed ---\n",
            "Summary: **Summary:** The user wants to learn Data Science and has basic Python skills. The assistant advised starting with pandas and NumPy and suggested looking at Coursera and Udemy for relevant courses. The user reiterated their interest in learning Data Science.\n",
            "\n",
            "Assistant: Sure! Do you have programming experience?\n",
            "User: Yes, some Python basics.\n",
            "\n",
            "--- Summarization Performed ---\n",
            "Summary: The user wants to learn Data Science and has basic Python knowledge. The assistant recommended beginning with pandas and NumPy and exploring Coursera/Udemy courses, then asked if the user has programming experience.\n",
            "\n",
            "Assistant: Great, start with pandas and numpy.\n",
            "User: Recommend online courses please.\n",
            "\n",
            "--- Summarization Performed ---\n",
            "Summary: The user wants to learn Data Science with basic Python skills; the assistant suggested starting with pandas and NumPy, recommended looking at Coursera/Udemy courses, asked about the user’s programming experience, and the user then asked for specific online course recommendations.\n",
            "\n",
            "Assistant: Coursera and Udemy have good options.\n",
            "\n",
            "Final Conversation History:\n",
            "system: Summary so far: The user wants to learn Data Science with basic Python skills; the assistant suggested starting with pandas and NumPy, recommended looking at Coursera/Udemy courses, asked about the user’s programming experience, and the user then asked for specific online course recommendations.\n",
            "Assistant: Coursera and Udemy have good options.\n"
          ]
        }
      ]
    },
    {
      "cell_type": "code",
      "source": [
        "expected_schema = {\n",
        "    \"name\": str,\n",
        "    \"email\": str,\n",
        "    \"phone\": str,\n",
        "    \"location\": str,\n",
        "    \"age\": int\n",
        "}\n"
      ],
      "metadata": {
        "id": "rvdfmFAdzHN6"
      },
      "execution_count": 7,
      "outputs": []
    },
    {
      "cell_type": "code",
      "source": [
        "def extract_json_from_response(response_text):\n",
        "    json_match = re.search(r\"```json\\s*(\\{.*?\\})\\s*```\", response_text, re.DOTALL)\n",
        "    if json_match:\n",
        "        json_str = json_match.group(1)\n",
        "        try:\n",
        "            return json.loads(json_str)\n",
        "        except json.JSONDecodeError:\n",
        "            return {\"error\": \"Failed to parse JSON\", \"raw_response\": response_text}\n",
        "    else:\n",
        "        try:\n",
        "            return json.loads(response_text)\n",
        "        except json.JSONDecodeError:\n",
        "            return {\"error\": \"Invalid JSON format\", \"raw_response\": response_text}\n"
      ],
      "metadata": {
        "id": "qL8Z6pSAzXaY"
      },
      "execution_count": 8,
      "outputs": []
    },
    {
      "cell_type": "code",
      "source": [
        "def extract_info_from_chat(chat_text):\n",
        "    response = client.chat.completions.create(\n",
        "        model=\"groq/compound\",\n",
        "        messages=[\n",
        "            {\"role\": \"user\", \"content\": f\"Extract in JSON format: name, email, phone, location, age from this chat:\\n{chat_text}\"}\n",
        "        ],\n",
        "        temperature=0,\n",
        "        max_completion_tokens=150\n",
        "    )\n",
        "\n",
        "    result_text = response.choices[0].message.content.strip()\n",
        "    return extract_json_from_response(result_text)\n",
        "\n"
      ],
      "metadata": {
        "id": "upYNkmo9zaor"
      },
      "execution_count": 9,
      "outputs": []
    },
    {
      "cell_type": "code",
      "source": [
        "def validate_extracted_data(data):\n",
        "    if \"error\" in data:\n",
        "        return data\n",
        "\n",
        "    for key, expected_type in expected_schema.items():\n",
        "        if key not in data:\n",
        "            return {\"error\": f\"Missing key: {key}\"}\n",
        "        if not isinstance(data[key], expected_type):\n",
        "            return {\"error\": f\"Incorrect type for {key}, expected {expected_type.__name__}\"}\n",
        "    return {\"success\": True, \"data\": data}\n"
      ],
      "metadata": {
        "id": "iKg2lx8bzc90"
      },
      "execution_count": 10,
      "outputs": []
    },
    {
      "cell_type": "code",
      "source": [
        "sample_chats = [\n",
        "    \"My name is John Doe, email is john@example.com, phone 1234567890, I live in New York, age 30.\",\n",
        "    \"I'm Jane from California. Contact: jane.doe@example.com, 0987654321. I'm 28 years old.\",\n",
        "    \"Hi, Mark here. Email: mark123@gmail.com, Phone: 1122334455, Location: Texas, Age: 35.\"\n",
        "]\n",
        "\n",
        "for i, chat in enumerate(sample_chats):\n",
        "    extracted = extract_info_from_chat(chat)\n",
        "    validation = validate_extracted_data(extracted)\n",
        "\n",
        "    print(f\"\\nSample Chat {i+1}:\")\n",
        "    print(f\"Extracted Data: {extracted}\")\n",
        "    print(f\"Validation Result: {validation}\")\n"
      ],
      "metadata": {
        "colab": {
          "base_uri": "https://localhost:8080/"
        },
        "id": "mdWdolOUzhIt",
        "outputId": "7ade61cb-e8d3-415e-9f99-629075330394"
      },
      "execution_count": 11,
      "outputs": [
        {
          "output_type": "stream",
          "name": "stdout",
          "text": [
            "\n",
            "Sample Chat 1:\n",
            "Extracted Data: {'name': 'John Doe', 'email': 'john@example.com', 'phone': '1234567890', 'location': 'New York', 'age': 30}\n",
            "Validation Result: {'success': True, 'data': {'name': 'John Doe', 'email': 'john@example.com', 'phone': '1234567890', 'location': 'New York', 'age': 30}}\n",
            "\n",
            "Sample Chat 2:\n",
            "Extracted Data: {'name': 'Jane', 'email': 'jane.doe@example.com', 'phone': '0987654321', 'location': 'California', 'age': 28}\n",
            "Validation Result: {'success': True, 'data': {'name': 'Jane', 'email': 'jane.doe@example.com', 'phone': '0987654321', 'location': 'California', 'age': 28}}\n",
            "\n",
            "Sample Chat 3:\n",
            "Extracted Data: {'name': 'Mark', 'email': 'mark123@gmail.com', 'phone': '1122334455', 'location': 'Texas', 'age': 35}\n",
            "Validation Result: {'success': True, 'data': {'name': 'Mark', 'email': 'mark123@gmail.com', 'phone': '1122334455', 'location': 'Texas', 'age': 35}}\n"
          ]
        }
      ]
    },
    {
      "cell_type": "code",
      "source": [],
      "metadata": {
        "id": "ZG4BjFc0zk__"
      },
      "execution_count": null,
      "outputs": []
    }
  ]
}